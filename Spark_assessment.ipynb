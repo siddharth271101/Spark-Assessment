{
 "cells": [
  {
   "cell_type": "code",
   "execution_count": 1,
   "metadata": {},
   "outputs": [
    {
     "name": "stderr",
     "output_type": "stream",
     "text": [
      "22/06/22 14:52:14 WARN Utils: Your hostname, Jarvis resolves to a loopback address: 127.0.1.1; using 192.168.1.6 instead (on interface wlo1)\n",
      "22/06/22 14:52:14 WARN Utils: Set SPARK_LOCAL_IP if you need to bind to another address\n",
      "WARNING: An illegal reflective access operation has occurred\n",
      "WARNING: Illegal reflective access by org.apache.spark.unsafe.Platform (file:/home/sid/Documents/Assessment/bizanalytix/lib/python3.8/site-packages/pyspark/jars/spark-unsafe_2.12-3.2.1.jar) to constructor java.nio.DirectByteBuffer(long,int)\n",
      "WARNING: Please consider reporting this to the maintainers of org.apache.spark.unsafe.Platform\n",
      "WARNING: Use --illegal-access=warn to enable warnings of further illegal reflective access operations\n",
      "WARNING: All illegal access operations will be denied in a future release\n"
     ]
    },
    {
     "name": "stdout",
     "output_type": "stream",
     "text": [
      ":: loading settings :: url = jar:file:/home/sid/Documents/Assessment/bizanalytix/lib/python3.8/site-packages/pyspark/jars/ivy-2.5.0.jar!/org/apache/ivy/core/settings/ivysettings.xml\n"
     ]
    },
    {
     "name": "stderr",
     "output_type": "stream",
     "text": [
      "Ivy Default Cache set to: /home/sid/.ivy2/cache\n",
      "The jars for the packages stored in: /home/sid/.ivy2/jars\n",
      "io.delta#delta-core_2.12 added as a dependency\n",
      ":: resolving dependencies :: org.apache.spark#spark-submit-parent-c26800c6-d9f5-4669-840f-e4def270b372;1.0\n",
      "\tconfs: [default]\n",
      "\tfound io.delta#delta-core_2.12;1.2.1 in central\n",
      "\tfound io.delta#delta-storage;1.2.1 in central\n",
      "\tfound org.antlr#antlr4-runtime;4.8 in central\n",
      "\tfound org.codehaus.jackson#jackson-core-asl;1.9.13 in central\n",
      ":: resolution report :: resolve 205ms :: artifacts dl 7ms\n",
      "\t:: modules in use:\n",
      "\tio.delta#delta-core_2.12;1.2.1 from central in [default]\n",
      "\tio.delta#delta-storage;1.2.1 from central in [default]\n",
      "\torg.antlr#antlr4-runtime;4.8 from central in [default]\n",
      "\torg.codehaus.jackson#jackson-core-asl;1.9.13 from central in [default]\n",
      "\t---------------------------------------------------------------------\n",
      "\t|                  |            modules            ||   artifacts   |\n",
      "\t|       conf       | number| search|dwnlded|evicted|| number|dwnlded|\n",
      "\t---------------------------------------------------------------------\n",
      "\t|      default     |   4   |   0   |   0   |   0   ||   4   |   0   |\n",
      "\t---------------------------------------------------------------------\n",
      ":: retrieving :: org.apache.spark#spark-submit-parent-c26800c6-d9f5-4669-840f-e4def270b372\n",
      "\tconfs: [default]\n",
      "\t0 artifacts copied, 4 already retrieved (0kB/6ms)\n",
      "22/06/22 14:52:15 WARN NativeCodeLoader: Unable to load native-hadoop library for your platform... using builtin-java classes where applicable\n",
      "Using Spark's default log4j profile: org/apache/spark/log4j-defaults.properties\n",
      "Setting default log level to \"WARN\".\n",
      "To adjust logging level use sc.setLogLevel(newLevel). For SparkR, use setLogLevel(newLevel).\n"
     ]
    }
   ],
   "source": [
    "import pyspark\n",
    "from pyspark.sql import SparkSession\n",
    "from pyspark.sql.dataframe import DataFrame\n",
    "from delta import *\n",
    "\n",
    "builder = pyspark.sql.SparkSession.builder.appName(\"BizAnalytix\") \\\n",
    "    .config(\"spark.sql.extensions\", \"io.delta.sql.DeltaSparkSessionExtension\") \\\n",
    "    .config(\"spark.sql.catalog.spark_catalog\", \"org.apache.spark.sql.delta.catalog.DeltaCatalog\")\n",
    "\n",
    "scSpark = configure_spark_with_delta_pip(builder).getOrCreate()\n",
    "people_path = \"data/people.csv\"\n",
    "\n",
    "people_data = scSpark.read.csv(people_path, header='true', sep=',', inferSchema=False)"
   ]
  },
  {
   "cell_type": "code",
   "execution_count": 2,
   "metadata": {},
   "outputs": [
    {
     "name": "stdout",
     "output_type": "stream",
     "text": [
      "root\n",
      " |-- person_ID: string (nullable = true)\n",
      " |-- name: string (nullable = true)\n",
      " |-- first: string (nullable = true)\n",
      " |-- last: string (nullable = true)\n",
      " |-- middle: string (nullable = true)\n",
      " |-- email: string (nullable = true)\n",
      " |-- phone: string (nullable = true)\n",
      " |-- fax: string (nullable = true)\n",
      " |-- title: string (nullable = true)\n",
      "\n"
     ]
    }
   ],
   "source": [
    "people_data.printSchema()"
   ]
  },
  {
   "cell_type": "code",
   "execution_count": 3,
   "metadata": {},
   "outputs": [
    {
     "data": {
      "text/html": [
       "<div>\n",
       "<style scoped>\n",
       "    .dataframe tbody tr th:only-of-type {\n",
       "        vertical-align: middle;\n",
       "    }\n",
       "\n",
       "    .dataframe tbody tr th {\n",
       "        vertical-align: top;\n",
       "    }\n",
       "\n",
       "    .dataframe thead th {\n",
       "        text-align: right;\n",
       "    }\n",
       "</style>\n",
       "<table border=\"1\" class=\"dataframe\">\n",
       "  <thead>\n",
       "    <tr style=\"text-align: right;\">\n",
       "      <th></th>\n",
       "      <th>person_ID</th>\n",
       "      <th>name</th>\n",
       "      <th>first</th>\n",
       "      <th>last</th>\n",
       "      <th>middle</th>\n",
       "      <th>email</th>\n",
       "      <th>phone</th>\n",
       "      <th>fax</th>\n",
       "      <th>title</th>\n",
       "    </tr>\n",
       "  </thead>\n",
       "  <tbody>\n",
       "    <tr>\n",
       "      <th>0</th>\n",
       "      <td>3130</td>\n",
       "      <td>Burks, Rosella</td>\n",
       "      <td>Rosella</td>\n",
       "      <td>Burks</td>\n",
       "      <td>None</td>\n",
       "      <td>BurksR@univ.edu</td>\n",
       "      <td>963.555.1253</td>\n",
       "      <td>963.777.4065</td>\n",
       "      <td>Professor</td>\n",
       "    </tr>\n",
       "    <tr>\n",
       "      <th>1</th>\n",
       "      <td>3297</td>\n",
       "      <td>Avila, Damien</td>\n",
       "      <td>Damien</td>\n",
       "      <td>Avila</td>\n",
       "      <td>None</td>\n",
       "      <td>AvilaD@univ.edu</td>\n",
       "      <td>963.555.1352</td>\n",
       "      <td>963.777.7914</td>\n",
       "      <td>Professor</td>\n",
       "    </tr>\n",
       "    <tr>\n",
       "      <th>2</th>\n",
       "      <td>3547</td>\n",
       "      <td>Olsen, Robin</td>\n",
       "      <td>Robin</td>\n",
       "      <td>Olsen</td>\n",
       "      <td>None</td>\n",
       "      <td>OlsenR@univ.edu</td>\n",
       "      <td>963.555.1378</td>\n",
       "      <td>963.777.9262</td>\n",
       "      <td>Assistant Professor</td>\n",
       "    </tr>\n",
       "    <tr>\n",
       "      <th>3</th>\n",
       "      <td>1538</td>\n",
       "      <td>Moises, Edgar Estes</td>\n",
       "      <td>Edgar</td>\n",
       "      <td>Moises</td>\n",
       "      <td>Estes</td>\n",
       "      <td>MoisesE@univ.edu</td>\n",
       "      <td>963.555.2731x3565</td>\n",
       "      <td>963.777.8264</td>\n",
       "      <td>Professor</td>\n",
       "    </tr>\n",
       "    <tr>\n",
       "      <th>4</th>\n",
       "      <td>2941</td>\n",
       "      <td>Brian, Heath Pruitt</td>\n",
       "      <td>Heath</td>\n",
       "      <td>Brian</td>\n",
       "      <td>Pruitt</td>\n",
       "      <td>BrianH@univ.edu</td>\n",
       "      <td>963.555.2800</td>\n",
       "      <td>963.777.7249</td>\n",
       "      <td>Associate Curator</td>\n",
       "    </tr>\n",
       "    <tr>\n",
       "      <th>5</th>\n",
       "      <td>2401</td>\n",
       "      <td>Claude, Elvin Haney</td>\n",
       "      <td>Elvin</td>\n",
       "      <td>Claude</td>\n",
       "      <td>Haney</td>\n",
       "      <td>ClaudeE@univ.edu</td>\n",
       "      <td>963.555.2902</td>\n",
       "      <td>963.777.9730</td>\n",
       "      <td>Curator</td>\n",
       "    </tr>\n",
       "    <tr>\n",
       "      <th>6</th>\n",
       "      <td>2070</td>\n",
       "      <td>Mosley, Edmund</td>\n",
       "      <td>Edmund</td>\n",
       "      <td>Mosley</td>\n",
       "      <td>None</td>\n",
       "      <td>MosleyE@univ.edu</td>\n",
       "      <td>963.555.2945</td>\n",
       "      <td>963.777.9285</td>\n",
       "      <td>Assistant Professor</td>\n",
       "    </tr>\n",
       "    <tr>\n",
       "      <th>7</th>\n",
       "      <td>2561</td>\n",
       "      <td>Derek, Antoine Mccoy</td>\n",
       "      <td>Antoine</td>\n",
       "      <td>Derek</td>\n",
       "      <td>Mccoy</td>\n",
       "      <td>DerekA@univ.edu</td>\n",
       "      <td>963.555.2992</td>\n",
       "      <td>963.777.5454</td>\n",
       "      <td>Curator</td>\n",
       "    </tr>\n",
       "    <tr>\n",
       "      <th>8</th>\n",
       "      <td>1625</td>\n",
       "      <td>Hawkins, Callie</td>\n",
       "      <td>Callie</td>\n",
       "      <td>Hawkins</td>\n",
       "      <td>None</td>\n",
       "      <td>HawkinsC@univ.edu</td>\n",
       "      <td>963.555.3350x6480</td>\n",
       "      <td>963.777.4949</td>\n",
       "      <td>Professor</td>\n",
       "    </tr>\n",
       "    <tr>\n",
       "      <th>9</th>\n",
       "      <td>1307</td>\n",
       "      <td>Pate, Andrea</td>\n",
       "      <td>Andrea</td>\n",
       "      <td>Pate</td>\n",
       "      <td>None</td>\n",
       "      <td>PateA@univ.edu</td>\n",
       "      <td>963.555.3723</td>\n",
       "      <td>963.777.5049</td>\n",
       "      <td>Professor</td>\n",
       "    </tr>\n",
       "  </tbody>\n",
       "</table>\n",
       "</div>"
      ],
      "text/plain": [
       "  person_ID                  name    first     last  middle  \\\n",
       "0      3130       Burks, Rosella   Rosella    Burks    None   \n",
       "1      3297        Avila, Damien    Damien    Avila    None   \n",
       "2      3547         Olsen, Robin     Robin    Olsen    None   \n",
       "3      1538   Moises, Edgar Estes    Edgar   Moises   Estes   \n",
       "4      2941   Brian, Heath Pruitt    Heath    Brian  Pruitt   \n",
       "5      2401   Claude, Elvin Haney    Elvin   Claude   Haney   \n",
       "6      2070       Mosley, Edmund    Edmund   Mosley    None   \n",
       "7      2561  Derek, Antoine Mccoy  Antoine    Derek   Mccoy   \n",
       "8      1625      Hawkins, Callie    Callie  Hawkins    None   \n",
       "9      1307         Pate, Andrea    Andrea     Pate    None   \n",
       "\n",
       "               email              phone           fax                title  \n",
       "0    BurksR@univ.edu       963.555.1253  963.777.4065           Professor   \n",
       "1    AvilaD@univ.edu       963.555.1352  963.777.7914           Professor   \n",
       "2    OlsenR@univ.edu       963.555.1378  963.777.9262  Assistant Professor  \n",
       "3   MoisesE@univ.edu  963.555.2731x3565  963.777.8264            Professor  \n",
       "4    BrianH@univ.edu       963.555.2800  963.777.7249   Associate Curator   \n",
       "5   ClaudeE@univ.edu       963.555.2902  963.777.9730              Curator  \n",
       "6   MosleyE@univ.edu       963.555.2945  963.777.9285  Assistant Professor  \n",
       "7    DerekA@univ.edu       963.555.2992  963.777.5454              Curator  \n",
       "8  HawkinsC@univ.edu  963.555.3350x6480  963.777.4949            Professor  \n",
       "9     PateA@univ.edu       963.555.3723  963.777.5049            Professor  "
      ]
     },
     "execution_count": 3,
     "metadata": {},
     "output_type": "execute_result"
    }
   ],
   "source": [
    "people_data.limit(10).toPandas()"
   ]
  },
  {
   "cell_type": "code",
   "execution_count": 4,
   "metadata": {},
   "outputs": [
    {
     "name": "stderr",
     "output_type": "stream",
     "text": [
      "                                                                                \r"
     ]
    }
   ],
   "source": [
    "people_data.write.format(\"delta\").saveAsTable(\"default.people_delta\")"
   ]
  },
  {
   "cell_type": "code",
   "execution_count": 5,
   "metadata": {},
   "outputs": [],
   "source": [
    "df = scSpark.read.format(\"delta\").load(\"spark-warehouse/people_delta\")  # query table by path"
   ]
  },
  {
   "cell_type": "code",
   "execution_count": 7,
   "metadata": {},
   "outputs": [
    {
     "name": "stdout",
     "output_type": "stream",
     "text": [
      "Dimension of the Dataframe is: (40, 9)\n",
      "Number of Records/Rows are: 40\n",
      "Number of Columns are: 9\n"
     ]
    }
   ],
   "source": [
    "# extracting number of rows from the Dataframe\n",
    "row = df.count()\n",
    "   \n",
    "# extracting number of columns from the Dataframe\n",
    "col = len(df.columns)\n",
    "\n",
    "# printing\n",
    "print(f'Dimension of the Dataframe is: {(row,col)}')\n",
    "print(f'Number of Records/Rows are: {row}')\n",
    "print(f'Number of Columns are: {col}')"
   ]
  },
  {
   "cell_type": "code",
   "execution_count": null,
   "metadata": {},
   "outputs": [],
   "source": []
  }
 ],
 "metadata": {
  "kernelspec": {
   "display_name": "bizanalytix",
   "language": "python",
   "name": "bizanalytix"
  },
  "language_info": {
   "codemirror_mode": {
    "name": "ipython",
    "version": 3
   },
   "file_extension": ".py",
   "mimetype": "text/x-python",
   "name": "python",
   "nbconvert_exporter": "python",
   "pygments_lexer": "ipython3",
   "version": "3.8.10"
  }
 },
 "nbformat": 4,
 "nbformat_minor": 4
}
